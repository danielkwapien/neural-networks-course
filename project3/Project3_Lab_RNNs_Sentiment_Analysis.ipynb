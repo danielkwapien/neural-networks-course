{
  "cells": [
    {
      "cell_type": "markdown",
      "id": "7b850da1",
      "metadata": {
        "id": "7b850da1"
      },
      "source": [
        "# Project 3: RNNs for Sentiment Analysis\n",
        "\n",
        "\n",
        "------------------------------------------------------\n",
        "**Olga Bonachera del Pozo** - 100472782\n",
        "\n",
        "**Daniel Kwapien** - 100472421\n",
        "\n",
        "**Alejandro Sánchez** - 100472892\n",
        "\n",
        "------------------------------------------------------\n",
        "\n",
        "In this notebook we will deploy RNNs to perform sentiment analysis in a real dataset of finantial news. The required preprocesing using standard NLP libraries will be given to you (you have a course on NLP in the second term to learn this part) and your goal will be to define the RNN model, train it and validate the results.\n",
        "\n",
        "\n",
        "We will use the [Finantial Phrase Bank](https://www.researchgate.net/profile/Pekka-Malo/publication/251231364_FinancialPhraseBank-v10/data/0c96051eee4fb1d56e000000/FinancialPhraseBank-v10.zip), which contains  near 5000 sentences from finantial news:\n",
        "\n",
        "\n",
        ">*This release of the financial phrase bank covers a collection of 4840 sentences. The selected collection of phrases was annotated by 16 people with adequate background knowledge on financial markets. Three of the annotators were researchers and the remaining 13 annotators were master’s students at Aalto University School of Business with majors primarily in finance, accounting, and economics.*\n",
        ">\n",
        ">*The objective of the phrase level annotation task was to classify each example sentence into a positive, negative or neutral category by considering only the information explicitly available in the given sentence. Since the study is focused only on financial and economic domains, the annotators were asked to consider the sentences from the view point of an investor only; i.e. whether the news may have positive, negative or neutral influence on the stock price. As a result, sentences which have a sentiment that is not relevant from an economic or financial perspective are considered neutral.*\n",
        "\n",
        "Lets load the database and preprocess it using [SpaCy](https://spacy.io/). This part is all given to you, so no need to worry much.\n",
        "\n",
        "\n"
      ]
    },
    {
      "cell_type": "markdown",
      "id": "-V0YdotSfgz4",
      "metadata": {
        "id": "-V0YdotSfgz4"
      },
      "source": [
        "**1. Compute Mean Words Embedding**"
      ]
    },
    {
      "cell_type": "code",
      "execution_count": 1,
      "id": "77de13ff",
      "metadata": {
        "colab": {
          "base_uri": "https://localhost:8080/"
        },
        "id": "77de13ff",
        "outputId": "dedb93ac-9575-4ca9-b968-6c633d7ec3e8"
      },
      "outputs": [
        {
          "name": "stdout",
          "output_type": "stream",
          "text": [
            "Requirement already satisfied: spacy in /usr/local/lib/python3.10/dist-packages (3.7.4)\n",
            "Requirement already satisfied: spacy-legacy<3.1.0,>=3.0.11 in /usr/local/lib/python3.10/dist-packages (from spacy) (3.0.12)\n",
            "Requirement already satisfied: spacy-loggers<2.0.0,>=1.0.0 in /usr/local/lib/python3.10/dist-packages (from spacy) (1.0.5)\n",
            "Requirement already satisfied: murmurhash<1.1.0,>=0.28.0 in /usr/local/lib/python3.10/dist-packages (from spacy) (1.0.10)\n",
            "Requirement already satisfied: cymem<2.1.0,>=2.0.2 in /usr/local/lib/python3.10/dist-packages (from spacy) (2.0.8)\n",
            "Requirement already satisfied: preshed<3.1.0,>=3.0.2 in /usr/local/lib/python3.10/dist-packages (from spacy) (3.0.9)\n",
            "Requirement already satisfied: thinc<8.3.0,>=8.2.2 in /usr/local/lib/python3.10/dist-packages (from spacy) (8.2.3)\n",
            "Requirement already satisfied: wasabi<1.2.0,>=0.9.1 in /usr/local/lib/python3.10/dist-packages (from spacy) (1.1.2)\n",
            "Requirement already satisfied: srsly<3.0.0,>=2.4.3 in /usr/local/lib/python3.10/dist-packages (from spacy) (2.4.8)\n",
            "Requirement already satisfied: catalogue<2.1.0,>=2.0.6 in /usr/local/lib/python3.10/dist-packages (from spacy) (2.0.10)\n",
            "Requirement already satisfied: weasel<0.4.0,>=0.1.0 in /usr/local/lib/python3.10/dist-packages (from spacy) (0.3.4)\n",
            "Requirement already satisfied: typer<0.10.0,>=0.3.0 in /usr/local/lib/python3.10/dist-packages (from spacy) (0.9.4)\n",
            "Requirement already satisfied: smart-open<7.0.0,>=5.2.1 in /usr/local/lib/python3.10/dist-packages (from spacy) (6.4.0)\n",
            "Requirement already satisfied: tqdm<5.0.0,>=4.38.0 in /usr/local/lib/python3.10/dist-packages (from spacy) (4.66.2)\n",
            "Requirement already satisfied: requests<3.0.0,>=2.13.0 in /usr/local/lib/python3.10/dist-packages (from spacy) (2.31.0)\n",
            "Requirement already satisfied: pydantic!=1.8,!=1.8.1,<3.0.0,>=1.7.4 in /usr/local/lib/python3.10/dist-packages (from spacy) (2.7.0)\n",
            "Requirement already satisfied: jinja2 in /usr/local/lib/python3.10/dist-packages (from spacy) (3.1.3)\n",
            "Requirement already satisfied: setuptools in /usr/local/lib/python3.10/dist-packages (from spacy) (67.7.2)\n",
            "Requirement already satisfied: packaging>=20.0 in /usr/local/lib/python3.10/dist-packages (from spacy) (24.0)\n",
            "Requirement already satisfied: langcodes<4.0.0,>=3.2.0 in /usr/local/lib/python3.10/dist-packages (from spacy) (3.3.0)\n",
            "Requirement already satisfied: numpy>=1.19.0 in /usr/local/lib/python3.10/dist-packages (from spacy) (1.25.2)\n",
            "Requirement already satisfied: annotated-types>=0.4.0 in /usr/local/lib/python3.10/dist-packages (from pydantic!=1.8,!=1.8.1,<3.0.0,>=1.7.4->spacy) (0.6.0)\n",
            "Requirement already satisfied: pydantic-core==2.18.1 in /usr/local/lib/python3.10/dist-packages (from pydantic!=1.8,!=1.8.1,<3.0.0,>=1.7.4->spacy) (2.18.1)\n",
            "Requirement already satisfied: typing-extensions>=4.6.1 in /usr/local/lib/python3.10/dist-packages (from pydantic!=1.8,!=1.8.1,<3.0.0,>=1.7.4->spacy) (4.11.0)\n",
            "Requirement already satisfied: charset-normalizer<4,>=2 in /usr/local/lib/python3.10/dist-packages (from requests<3.0.0,>=2.13.0->spacy) (3.3.2)\n",
            "Requirement already satisfied: idna<4,>=2.5 in /usr/local/lib/python3.10/dist-packages (from requests<3.0.0,>=2.13.0->spacy) (3.7)\n",
            "Requirement already satisfied: urllib3<3,>=1.21.1 in /usr/local/lib/python3.10/dist-packages (from requests<3.0.0,>=2.13.0->spacy) (2.0.7)\n",
            "Requirement already satisfied: certifi>=2017.4.17 in /usr/local/lib/python3.10/dist-packages (from requests<3.0.0,>=2.13.0->spacy) (2024.2.2)\n",
            "Requirement already satisfied: blis<0.8.0,>=0.7.8 in /usr/local/lib/python3.10/dist-packages (from thinc<8.3.0,>=8.2.2->spacy) (0.7.11)\n",
            "Requirement already satisfied: confection<1.0.0,>=0.0.1 in /usr/local/lib/python3.10/dist-packages (from thinc<8.3.0,>=8.2.2->spacy) (0.1.4)\n",
            "Requirement already satisfied: click<9.0.0,>=7.1.1 in /usr/local/lib/python3.10/dist-packages (from typer<0.10.0,>=0.3.0->spacy) (8.1.7)\n",
            "Requirement already satisfied: cloudpathlib<0.17.0,>=0.7.0 in /usr/local/lib/python3.10/dist-packages (from weasel<0.4.0,>=0.1.0->spacy) (0.16.0)\n",
            "Requirement already satisfied: MarkupSafe>=2.0 in /usr/local/lib/python3.10/dist-packages (from jinja2->spacy) (2.1.5)\n"
          ]
        }
      ],
      "source": [
        "# To use it in colab, update spacy\n",
        "!pip install --upgrade spacy"
      ]
    },
    {
      "cell_type": "code",
      "execution_count": 2,
      "id": "6a1c37cf",
      "metadata": {
        "colab": {
          "base_uri": "https://localhost:8080/"
        },
        "id": "6a1c37cf",
        "outputId": "74dc87b0-1a56-487c-ba47-3de491c530de"
      },
      "outputs": [
        {
          "name": "stdout",
          "output_type": "stream",
          "text": [
            "Collecting en-core-web-md==3.7.1\n",
            "  Downloading https://github.com/explosion/spacy-models/releases/download/en_core_web_md-3.7.1/en_core_web_md-3.7.1-py3-none-any.whl (42.8 MB)\n",
            "\u001b[2K     \u001b[90m━━━━━━━━━━━━━━━━━━━━━━━━━━━━━━━━━━━━━━━━\u001b[0m \u001b[32m42.8/42.8 MB\u001b[0m \u001b[31m14.7 MB/s\u001b[0m eta \u001b[36m0:00:00\u001b[0m\n",
            "\u001b[?25hRequirement already satisfied: spacy<3.8.0,>=3.7.2 in /usr/local/lib/python3.10/dist-packages (from en-core-web-md==3.7.1) (3.7.4)\n",
            "Requirement already satisfied: spacy-legacy<3.1.0,>=3.0.11 in /usr/local/lib/python3.10/dist-packages (from spacy<3.8.0,>=3.7.2->en-core-web-md==3.7.1) (3.0.12)\n",
            "Requirement already satisfied: spacy-loggers<2.0.0,>=1.0.0 in /usr/local/lib/python3.10/dist-packages (from spacy<3.8.0,>=3.7.2->en-core-web-md==3.7.1) (1.0.5)\n",
            "Requirement already satisfied: murmurhash<1.1.0,>=0.28.0 in /usr/local/lib/python3.10/dist-packages (from spacy<3.8.0,>=3.7.2->en-core-web-md==3.7.1) (1.0.10)\n",
            "Requirement already satisfied: cymem<2.1.0,>=2.0.2 in /usr/local/lib/python3.10/dist-packages (from spacy<3.8.0,>=3.7.2->en-core-web-md==3.7.1) (2.0.8)\n",
            "Requirement already satisfied: preshed<3.1.0,>=3.0.2 in /usr/local/lib/python3.10/dist-packages (from spacy<3.8.0,>=3.7.2->en-core-web-md==3.7.1) (3.0.9)\n",
            "Requirement already satisfied: thinc<8.3.0,>=8.2.2 in /usr/local/lib/python3.10/dist-packages (from spacy<3.8.0,>=3.7.2->en-core-web-md==3.7.1) (8.2.3)\n",
            "Requirement already satisfied: wasabi<1.2.0,>=0.9.1 in /usr/local/lib/python3.10/dist-packages (from spacy<3.8.0,>=3.7.2->en-core-web-md==3.7.1) (1.1.2)\n",
            "Requirement already satisfied: srsly<3.0.0,>=2.4.3 in /usr/local/lib/python3.10/dist-packages (from spacy<3.8.0,>=3.7.2->en-core-web-md==3.7.1) (2.4.8)\n",
            "Requirement already satisfied: catalogue<2.1.0,>=2.0.6 in /usr/local/lib/python3.10/dist-packages (from spacy<3.8.0,>=3.7.2->en-core-web-md==3.7.1) (2.0.10)\n",
            "Requirement already satisfied: weasel<0.4.0,>=0.1.0 in /usr/local/lib/python3.10/dist-packages (from spacy<3.8.0,>=3.7.2->en-core-web-md==3.7.1) (0.3.4)\n",
            "Requirement already satisfied: typer<0.10.0,>=0.3.0 in /usr/local/lib/python3.10/dist-packages (from spacy<3.8.0,>=3.7.2->en-core-web-md==3.7.1) (0.9.4)\n",
            "Requirement already satisfied: smart-open<7.0.0,>=5.2.1 in /usr/local/lib/python3.10/dist-packages (from spacy<3.8.0,>=3.7.2->en-core-web-md==3.7.1) (6.4.0)\n",
            "Requirement already satisfied: tqdm<5.0.0,>=4.38.0 in /usr/local/lib/python3.10/dist-packages (from spacy<3.8.0,>=3.7.2->en-core-web-md==3.7.1) (4.66.2)\n",
            "Requirement already satisfied: requests<3.0.0,>=2.13.0 in /usr/local/lib/python3.10/dist-packages (from spacy<3.8.0,>=3.7.2->en-core-web-md==3.7.1) (2.31.0)\n",
            "Requirement already satisfied: pydantic!=1.8,!=1.8.1,<3.0.0,>=1.7.4 in /usr/local/lib/python3.10/dist-packages (from spacy<3.8.0,>=3.7.2->en-core-web-md==3.7.1) (2.7.0)\n",
            "Requirement already satisfied: jinja2 in /usr/local/lib/python3.10/dist-packages (from spacy<3.8.0,>=3.7.2->en-core-web-md==3.7.1) (3.1.3)\n",
            "Requirement already satisfied: setuptools in /usr/local/lib/python3.10/dist-packages (from spacy<3.8.0,>=3.7.2->en-core-web-md==3.7.1) (67.7.2)\n",
            "Requirement already satisfied: packaging>=20.0 in /usr/local/lib/python3.10/dist-packages (from spacy<3.8.0,>=3.7.2->en-core-web-md==3.7.1) (24.0)\n",
            "Requirement already satisfied: langcodes<4.0.0,>=3.2.0 in /usr/local/lib/python3.10/dist-packages (from spacy<3.8.0,>=3.7.2->en-core-web-md==3.7.1) (3.3.0)\n",
            "Requirement already satisfied: numpy>=1.19.0 in /usr/local/lib/python3.10/dist-packages (from spacy<3.8.0,>=3.7.2->en-core-web-md==3.7.1) (1.25.2)\n",
            "Requirement already satisfied: annotated-types>=0.4.0 in /usr/local/lib/python3.10/dist-packages (from pydantic!=1.8,!=1.8.1,<3.0.0,>=1.7.4->spacy<3.8.0,>=3.7.2->en-core-web-md==3.7.1) (0.6.0)\n",
            "Requirement already satisfied: pydantic-core==2.18.1 in /usr/local/lib/python3.10/dist-packages (from pydantic!=1.8,!=1.8.1,<3.0.0,>=1.7.4->spacy<3.8.0,>=3.7.2->en-core-web-md==3.7.1) (2.18.1)\n",
            "Requirement already satisfied: typing-extensions>=4.6.1 in /usr/local/lib/python3.10/dist-packages (from pydantic!=1.8,!=1.8.1,<3.0.0,>=1.7.4->spacy<3.8.0,>=3.7.2->en-core-web-md==3.7.1) (4.11.0)\n",
            "Requirement already satisfied: charset-normalizer<4,>=2 in /usr/local/lib/python3.10/dist-packages (from requests<3.0.0,>=2.13.0->spacy<3.8.0,>=3.7.2->en-core-web-md==3.7.1) (3.3.2)\n",
            "Requirement already satisfied: idna<4,>=2.5 in /usr/local/lib/python3.10/dist-packages (from requests<3.0.0,>=2.13.0->spacy<3.8.0,>=3.7.2->en-core-web-md==3.7.1) (3.7)\n",
            "Requirement already satisfied: urllib3<3,>=1.21.1 in /usr/local/lib/python3.10/dist-packages (from requests<3.0.0,>=2.13.0->spacy<3.8.0,>=3.7.2->en-core-web-md==3.7.1) (2.0.7)\n",
            "Requirement already satisfied: certifi>=2017.4.17 in /usr/local/lib/python3.10/dist-packages (from requests<3.0.0,>=2.13.0->spacy<3.8.0,>=3.7.2->en-core-web-md==3.7.1) (2024.2.2)\n",
            "Requirement already satisfied: blis<0.8.0,>=0.7.8 in /usr/local/lib/python3.10/dist-packages (from thinc<8.3.0,>=8.2.2->spacy<3.8.0,>=3.7.2->en-core-web-md==3.7.1) (0.7.11)\n",
            "Requirement already satisfied: confection<1.0.0,>=0.0.1 in /usr/local/lib/python3.10/dist-packages (from thinc<8.3.0,>=8.2.2->spacy<3.8.0,>=3.7.2->en-core-web-md==3.7.1) (0.1.4)\n",
            "Requirement already satisfied: click<9.0.0,>=7.1.1 in /usr/local/lib/python3.10/dist-packages (from typer<0.10.0,>=0.3.0->spacy<3.8.0,>=3.7.2->en-core-web-md==3.7.1) (8.1.7)\n",
            "Requirement already satisfied: cloudpathlib<0.17.0,>=0.7.0 in /usr/local/lib/python3.10/dist-packages (from weasel<0.4.0,>=0.1.0->spacy<3.8.0,>=3.7.2->en-core-web-md==3.7.1) (0.16.0)\n",
            "Requirement already satisfied: MarkupSafe>=2.0 in /usr/local/lib/python3.10/dist-packages (from jinja2->spacy<3.8.0,>=3.7.2->en-core-web-md==3.7.1) (2.1.5)\n",
            "Installing collected packages: en-core-web-md\n",
            "Successfully installed en-core-web-md-3.7.1\n",
            "\u001b[38;5;2m✔ Download and installation successful\u001b[0m\n",
            "You can now load the package via spacy.load('en_core_web_md')\n",
            "\u001b[38;5;3m⚠ Restart to reload dependencies\u001b[0m\n",
            "If you are in a Jupyter or Colab notebook, you may need to restart Python in\n",
            "order to load all the package's dependencies. You can do this by selecting the\n",
            "'Restart kernel' or 'Restart runtime' option.\n"
          ]
        }
      ],
      "source": [
        "# Download language model\n",
        "\n",
        "!python -m spacy download en_core_web_md"
      ]
    },
    {
      "cell_type": "code",
      "execution_count": 3,
      "id": "2219fa36",
      "metadata": {
        "id": "2219fa36"
      },
      "outputs": [],
      "source": [
        "import numpy as np\n",
        "import pandas as pd\n",
        "import spacy\n",
        "\n",
        "\n",
        "%matplotlib inline\n",
        "%config InlineBackend.figure_format = 'retina'\n",
        "import matplotlib.pyplot as plt"
      ]
    },
    {
      "cell_type": "code",
      "execution_count": 4,
      "id": "028b065d",
      "metadata": {
        "id": "028b065d"
      },
      "outputs": [],
      "source": [
        "with open(\"Sentences.txt\", \"r\", encoding=\"ISO-8859-1\") as sentences:\n",
        "    lines = sentences.readlines()"
      ]
    },
    {
      "cell_type": "code",
      "execution_count": 5,
      "id": "SpMI-yCeeiQ5",
      "metadata": {
        "colab": {
          "base_uri": "https://localhost:8080/"
        },
        "id": "SpMI-yCeeiQ5",
        "outputId": "162273c1-533c-4e09-e074-76f713dd51ca"
      },
      "outputs": [
        {
          "name": "stdout",
          "output_type": "stream",
          "text": [
            "Mounted at /content/drive\n"
          ]
        }
      ],
      "source": [
        "from google.colab import drive\n",
        "drive.mount('/content/drive')"
      ]
    },
    {
      "cell_type": "markdown",
      "id": "3126ead9",
      "metadata": {
        "id": "3126ead9"
      },
      "source": [
        "In lines, we have a list of sentences and an associted label, separated by the character `@`"
      ]
    },
    {
      "cell_type": "code",
      "execution_count": 6,
      "id": "043ba50d",
      "metadata": {
        "colab": {
          "base_uri": "https://localhost:8080/"
        },
        "id": "043ba50d",
        "outputId": "7a016698-d581-42a8-ae41-f53a3a36344d"
      },
      "outputs": [
        {
          "name": "stdout",
          "output_type": "stream",
          "text": [
            "According to Gran , the company has no plans to move all production to Russia , although that is where the company is growing .@neutral\n",
            "\n"
          ]
        }
      ],
      "source": [
        "print(lines[0])"
      ]
    },
    {
      "cell_type": "markdown",
      "id": "b5eeefa0",
      "metadata": {
        "id": "b5eeefa0"
      },
      "source": [
        "We split the sentence and we code with 0 neutral labels, with 1 negative labels, and with 2 positive labels"
      ]
    },
    {
      "cell_type": "code",
      "execution_count": 7,
      "id": "0230d0e8",
      "metadata": {
        "id": "0230d0e8"
      },
      "outputs": [],
      "source": [
        "phrases = [l.split('@')[0] for l in lines]\n",
        "opinions = [l.split('@')[1] for l in lines]\n",
        "\n",
        "def code_opinion(l):\n",
        "\n",
        "    d = 0\n",
        "\n",
        "    if (l=='negative\\n'):\n",
        "\n",
        "        d = 1\n",
        "\n",
        "    elif (l=='positive\\n'):\n",
        "\n",
        "        d = 2\n",
        "\n",
        "    return d\n",
        "\n",
        "labels = np.array([code_opinion(l) for l in opinions])\n"
      ]
    },
    {
      "cell_type": "code",
      "execution_count": 8,
      "id": "2b424746",
      "metadata": {
        "colab": {
          "base_uri": "https://localhost:8080/",
          "height": 424
        },
        "id": "2b424746",
        "outputId": "4edd59ce-dc97-404d-c7e4-4b1e94147131"
      },
      "outputs": [
        {
          "data": {
            "application/vnd.google.colaboratory.intrinsic+json": {
              "summary": "{\n  \"name\": \"df\",\n  \"rows\": 5717,\n  \"fields\": [\n    {\n      \"column\": \"Phrase\",\n      \"properties\": {\n        \"dtype\": \"string\",\n        \"num_unique_values\": 3448,\n        \"samples\": [\n          \"The period-end cash and cash equivalents totaled EUR6 .5 m , compared to EUR10 .5 m in the previous year .\",\n          \"In June it sold a 30 percent stake to Nordstjernan , and the investment group has now taken up the option to acquire EQT 's remaining shares .\",\n          \"The aim is an annual improvement in Ruukki Construction 's operating profit of more than EUR 3 million USD 4.1 m starting in 2009 .\"\n        ],\n        \"semantic_type\": \"\",\n        \"description\": \"\"\n      }\n    },\n    {\n      \"column\": \"Opinion\",\n      \"properties\": {\n        \"dtype\": \"category\",\n        \"num_unique_values\": 3,\n        \"samples\": [\n          \"neutral\\n\",\n          \"positive\\n\",\n          \"negative\\n\"\n        ],\n        \"semantic_type\": \"\",\n        \"description\": \"\"\n      }\n    }\n  ]\n}",
              "type": "dataframe",
              "variable_name": "df"
            },
            "text/html": [
              "\n",
              "  <div id=\"df-e9b3ff39-eab3-45eb-a2c4-88a494a97f49\" class=\"colab-df-container\">\n",
              "    <div>\n",
              "<style scoped>\n",
              "    .dataframe tbody tr th:only-of-type {\n",
              "        vertical-align: middle;\n",
              "    }\n",
              "\n",
              "    .dataframe tbody tr th {\n",
              "        vertical-align: top;\n",
              "    }\n",
              "\n",
              "    .dataframe thead th {\n",
              "        text-align: right;\n",
              "    }\n",
              "</style>\n",
              "<table border=\"1\" class=\"dataframe\">\n",
              "  <thead>\n",
              "    <tr style=\"text-align: right;\">\n",
              "      <th></th>\n",
              "      <th>Phrase</th>\n",
              "      <th>Opinion</th>\n",
              "    </tr>\n",
              "  </thead>\n",
              "  <tbody>\n",
              "    <tr>\n",
              "      <th>0</th>\n",
              "      <td>According to Gran , the company has no plans t...</td>\n",
              "      <td>neutral\\n</td>\n",
              "    </tr>\n",
              "    <tr>\n",
              "      <th>1</th>\n",
              "      <td>With the new production plant the company woul...</td>\n",
              "      <td>positive\\n</td>\n",
              "    </tr>\n",
              "    <tr>\n",
              "      <th>2</th>\n",
              "      <td>For the last quarter of 2010 , Componenta 's n...</td>\n",
              "      <td>positive\\n</td>\n",
              "    </tr>\n",
              "    <tr>\n",
              "      <th>3</th>\n",
              "      <td>In the third quarter of 2010 , net sales incre...</td>\n",
              "      <td>positive\\n</td>\n",
              "    </tr>\n",
              "    <tr>\n",
              "      <th>4</th>\n",
              "      <td>Operating profit rose to EUR 13.1 mn from EUR ...</td>\n",
              "      <td>positive\\n</td>\n",
              "    </tr>\n",
              "    <tr>\n",
              "      <th>...</th>\n",
              "      <td>...</td>\n",
              "      <td>...</td>\n",
              "    </tr>\n",
              "    <tr>\n",
              "      <th>5712</th>\n",
              "      <td>Operating result for the 12-month period decre...</td>\n",
              "      <td>negative\\n</td>\n",
              "    </tr>\n",
              "    <tr>\n",
              "      <th>5713</th>\n",
              "      <td>HELSINKI Thomson Financial - Shares in Cargote...</td>\n",
              "      <td>negative\\n</td>\n",
              "    </tr>\n",
              "    <tr>\n",
              "      <th>5714</th>\n",
              "      <td>LONDON MarketWatch -- Share prices ended lower...</td>\n",
              "      <td>negative\\n</td>\n",
              "    </tr>\n",
              "    <tr>\n",
              "      <th>5715</th>\n",
              "      <td>Operating profit fell to EUR 35.4 mn from EUR ...</td>\n",
              "      <td>negative\\n</td>\n",
              "    </tr>\n",
              "    <tr>\n",
              "      <th>5716</th>\n",
              "      <td>Sales in Finland decreased by 10.5 % in Januar...</td>\n",
              "      <td>negative\\n</td>\n",
              "    </tr>\n",
              "  </tbody>\n",
              "</table>\n",
              "<p>5717 rows × 2 columns</p>\n",
              "</div>\n",
              "    <div class=\"colab-df-buttons\">\n",
              "\n",
              "  <div class=\"colab-df-container\">\n",
              "    <button class=\"colab-df-convert\" onclick=\"convertToInteractive('df-e9b3ff39-eab3-45eb-a2c4-88a494a97f49')\"\n",
              "            title=\"Convert this dataframe to an interactive table.\"\n",
              "            style=\"display:none;\">\n",
              "\n",
              "  <svg xmlns=\"http://www.w3.org/2000/svg\" height=\"24px\" viewBox=\"0 -960 960 960\">\n",
              "    <path d=\"M120-120v-720h720v720H120Zm60-500h600v-160H180v160Zm220 220h160v-160H400v160Zm0 220h160v-160H400v160ZM180-400h160v-160H180v160Zm440 0h160v-160H620v160ZM180-180h160v-160H180v160Zm440 0h160v-160H620v160Z\"/>\n",
              "  </svg>\n",
              "    </button>\n",
              "\n",
              "  <style>\n",
              "    .colab-df-container {\n",
              "      display:flex;\n",
              "      gap: 12px;\n",
              "    }\n",
              "\n",
              "    .colab-df-convert {\n",
              "      background-color: #E8F0FE;\n",
              "      border: none;\n",
              "      border-radius: 50%;\n",
              "      cursor: pointer;\n",
              "      display: none;\n",
              "      fill: #1967D2;\n",
              "      height: 32px;\n",
              "      padding: 0 0 0 0;\n",
              "      width: 32px;\n",
              "    }\n",
              "\n",
              "    .colab-df-convert:hover {\n",
              "      background-color: #E2EBFA;\n",
              "      box-shadow: 0px 1px 2px rgba(60, 64, 67, 0.3), 0px 1px 3px 1px rgba(60, 64, 67, 0.15);\n",
              "      fill: #174EA6;\n",
              "    }\n",
              "\n",
              "    .colab-df-buttons div {\n",
              "      margin-bottom: 4px;\n",
              "    }\n",
              "\n",
              "    [theme=dark] .colab-df-convert {\n",
              "      background-color: #3B4455;\n",
              "      fill: #D2E3FC;\n",
              "    }\n",
              "\n",
              "    [theme=dark] .colab-df-convert:hover {\n",
              "      background-color: #434B5C;\n",
              "      box-shadow: 0px 1px 3px 1px rgba(0, 0, 0, 0.15);\n",
              "      filter: drop-shadow(0px 1px 2px rgba(0, 0, 0, 0.3));\n",
              "      fill: #FFFFFF;\n",
              "    }\n",
              "  </style>\n",
              "\n",
              "    <script>\n",
              "      const buttonEl =\n",
              "        document.querySelector('#df-e9b3ff39-eab3-45eb-a2c4-88a494a97f49 button.colab-df-convert');\n",
              "      buttonEl.style.display =\n",
              "        google.colab.kernel.accessAllowed ? 'block' : 'none';\n",
              "\n",
              "      async function convertToInteractive(key) {\n",
              "        const element = document.querySelector('#df-e9b3ff39-eab3-45eb-a2c4-88a494a97f49');\n",
              "        const dataTable =\n",
              "          await google.colab.kernel.invokeFunction('convertToInteractive',\n",
              "                                                    [key], {});\n",
              "        if (!dataTable) return;\n",
              "\n",
              "        const docLinkHtml = 'Like what you see? Visit the ' +\n",
              "          '<a target=\"_blank\" href=https://colab.research.google.com/notebooks/data_table.ipynb>data table notebook</a>'\n",
              "          + ' to learn more about interactive tables.';\n",
              "        element.innerHTML = '';\n",
              "        dataTable['output_type'] = 'display_data';\n",
              "        await google.colab.output.renderOutput(dataTable, element);\n",
              "        const docLink = document.createElement('div');\n",
              "        docLink.innerHTML = docLinkHtml;\n",
              "        element.appendChild(docLink);\n",
              "      }\n",
              "    </script>\n",
              "  </div>\n",
              "\n",
              "\n",
              "<div id=\"df-96b9910d-c903-45d3-91be-79c4264aa221\">\n",
              "  <button class=\"colab-df-quickchart\" onclick=\"quickchart('df-96b9910d-c903-45d3-91be-79c4264aa221')\"\n",
              "            title=\"Suggest charts\"\n",
              "            style=\"display:none;\">\n",
              "\n",
              "<svg xmlns=\"http://www.w3.org/2000/svg\" height=\"24px\"viewBox=\"0 0 24 24\"\n",
              "     width=\"24px\">\n",
              "    <g>\n",
              "        <path d=\"M19 3H5c-1.1 0-2 .9-2 2v14c0 1.1.9 2 2 2h14c1.1 0 2-.9 2-2V5c0-1.1-.9-2-2-2zM9 17H7v-7h2v7zm4 0h-2V7h2v10zm4 0h-2v-4h2v4z\"/>\n",
              "    </g>\n",
              "</svg>\n",
              "  </button>\n",
              "\n",
              "<style>\n",
              "  .colab-df-quickchart {\n",
              "      --bg-color: #E8F0FE;\n",
              "      --fill-color: #1967D2;\n",
              "      --hover-bg-color: #E2EBFA;\n",
              "      --hover-fill-color: #174EA6;\n",
              "      --disabled-fill-color: #AAA;\n",
              "      --disabled-bg-color: #DDD;\n",
              "  }\n",
              "\n",
              "  [theme=dark] .colab-df-quickchart {\n",
              "      --bg-color: #3B4455;\n",
              "      --fill-color: #D2E3FC;\n",
              "      --hover-bg-color: #434B5C;\n",
              "      --hover-fill-color: #FFFFFF;\n",
              "      --disabled-bg-color: #3B4455;\n",
              "      --disabled-fill-color: #666;\n",
              "  }\n",
              "\n",
              "  .colab-df-quickchart {\n",
              "    background-color: var(--bg-color);\n",
              "    border: none;\n",
              "    border-radius: 50%;\n",
              "    cursor: pointer;\n",
              "    display: none;\n",
              "    fill: var(--fill-color);\n",
              "    height: 32px;\n",
              "    padding: 0;\n",
              "    width: 32px;\n",
              "  }\n",
              "\n",
              "  .colab-df-quickchart:hover {\n",
              "    background-color: var(--hover-bg-color);\n",
              "    box-shadow: 0 1px 2px rgba(60, 64, 67, 0.3), 0 1px 3px 1px rgba(60, 64, 67, 0.15);\n",
              "    fill: var(--button-hover-fill-color);\n",
              "  }\n",
              "\n",
              "  .colab-df-quickchart-complete:disabled,\n",
              "  .colab-df-quickchart-complete:disabled:hover {\n",
              "    background-color: var(--disabled-bg-color);\n",
              "    fill: var(--disabled-fill-color);\n",
              "    box-shadow: none;\n",
              "  }\n",
              "\n",
              "  .colab-df-spinner {\n",
              "    border: 2px solid var(--fill-color);\n",
              "    border-color: transparent;\n",
              "    border-bottom-color: var(--fill-color);\n",
              "    animation:\n",
              "      spin 1s steps(1) infinite;\n",
              "  }\n",
              "\n",
              "  @keyframes spin {\n",
              "    0% {\n",
              "      border-color: transparent;\n",
              "      border-bottom-color: var(--fill-color);\n",
              "      border-left-color: var(--fill-color);\n",
              "    }\n",
              "    20% {\n",
              "      border-color: transparent;\n",
              "      border-left-color: var(--fill-color);\n",
              "      border-top-color: var(--fill-color);\n",
              "    }\n",
              "    30% {\n",
              "      border-color: transparent;\n",
              "      border-left-color: var(--fill-color);\n",
              "      border-top-color: var(--fill-color);\n",
              "      border-right-color: var(--fill-color);\n",
              "    }\n",
              "    40% {\n",
              "      border-color: transparent;\n",
              "      border-right-color: var(--fill-color);\n",
              "      border-top-color: var(--fill-color);\n",
              "    }\n",
              "    60% {\n",
              "      border-color: transparent;\n",
              "      border-right-color: var(--fill-color);\n",
              "    }\n",
              "    80% {\n",
              "      border-color: transparent;\n",
              "      border-right-color: var(--fill-color);\n",
              "      border-bottom-color: var(--fill-color);\n",
              "    }\n",
              "    90% {\n",
              "      border-color: transparent;\n",
              "      border-bottom-color: var(--fill-color);\n",
              "    }\n",
              "  }\n",
              "</style>\n",
              "\n",
              "  <script>\n",
              "    async function quickchart(key) {\n",
              "      const quickchartButtonEl =\n",
              "        document.querySelector('#' + key + ' button');\n",
              "      quickchartButtonEl.disabled = true;  // To prevent multiple clicks.\n",
              "      quickchartButtonEl.classList.add('colab-df-spinner');\n",
              "      try {\n",
              "        const charts = await google.colab.kernel.invokeFunction(\n",
              "            'suggestCharts', [key], {});\n",
              "      } catch (error) {\n",
              "        console.error('Error during call to suggestCharts:', error);\n",
              "      }\n",
              "      quickchartButtonEl.classList.remove('colab-df-spinner');\n",
              "      quickchartButtonEl.classList.add('colab-df-quickchart-complete');\n",
              "    }\n",
              "    (() => {\n",
              "      let quickchartButtonEl =\n",
              "        document.querySelector('#df-96b9910d-c903-45d3-91be-79c4264aa221 button');\n",
              "      quickchartButtonEl.style.display =\n",
              "        google.colab.kernel.accessAllowed ? 'block' : 'none';\n",
              "    })();\n",
              "  </script>\n",
              "</div>\n",
              "    </div>\n",
              "  </div>\n"
            ],
            "text/plain": [
              "                                                 Phrase     Opinion\n",
              "0     According to Gran , the company has no plans t...   neutral\\n\n",
              "1     With the new production plant the company woul...  positive\\n\n",
              "2     For the last quarter of 2010 , Componenta 's n...  positive\\n\n",
              "3     In the third quarter of 2010 , net sales incre...  positive\\n\n",
              "4     Operating profit rose to EUR 13.1 mn from EUR ...  positive\\n\n",
              "...                                                 ...         ...\n",
              "5712  Operating result for the 12-month period decre...  negative\\n\n",
              "5713  HELSINKI Thomson Financial - Shares in Cargote...  negative\\n\n",
              "5714  LONDON MarketWatch -- Share prices ended lower...  negative\\n\n",
              "5715  Operating profit fell to EUR 35.4 mn from EUR ...  negative\\n\n",
              "5716  Sales in Finland decreased by 10.5 % in Januar...  negative\\n\n",
              "\n",
              "[5717 rows x 2 columns]"
            ]
          },
          "execution_count": 8,
          "metadata": {},
          "output_type": "execute_result"
        }
      ],
      "source": [
        "df = pd.DataFrame({\"Phrase\":phrases,\n",
        "                  \"Opinion\":opinions})\n",
        "\n",
        "df"
      ]
    },
    {
      "cell_type": "markdown",
      "id": "020659ea",
      "metadata": {
        "id": "020659ea"
      },
      "source": [
        "Lets plot the histogram of the labels ..."
      ]
    },
    {
      "cell_type": "code",
      "execution_count": 9,
      "id": "3afa14ee",
      "metadata": {
        "colab": {
          "base_uri": "https://localhost:8080/",
          "height": 470
        },
        "id": "3afa14ee",
        "outputId": "7b8cad88-5a34-415b-9fae-2525d2d93a2c"
      },
      "outputs": [
        {
          "data": {
            "image/png": "[encoded data removed]",
            "text/plain": [
              "<Figure size 640x480 with 1 Axes>"
            ]
          },
          "metadata": {
            "image/png": {
              "height": 453,
              "width": 562
            }
          },
          "output_type": "display_data"
        }
      ],
      "source": [
        "fig,ax = plt.subplots(1,1)\n",
        "\n",
        "ax.hist(labels)\n",
        "ax.set_xticks([0,1,2])\n",
        "ax.set_xticklabels(['Neutral','Negative','Positive'],rotation=45)\n",
        "ax.grid()\n"
      ]
    },
    {
      "cell_type": "markdown",
      "id": "7df0a68b",
      "metadata": {
        "id": "7df0a68b"
      },
      "source": [
        "To simplify the problem, we're fusing together *Neutral* and *Positive* labels. So label 1 is *Negative review* and label 0 is *Positive+Neutral*. Also, we separate between train, validation and test."
      ]
    },
    {
      "cell_type": "code",
      "execution_count": 10,
      "id": "af3245b5",
      "metadata": {
        "id": "af3245b5"
      },
      "outputs": [],
      "source": [
        "from sklearn.model_selection import train_test_split\n",
        "\n",
        "labels_bin = labels.copy()\n",
        "\n",
        "labels_bin[labels_bin==2] = 0\n",
        "\n",
        "idx_data = np.arange(0,len(df),1)\n",
        "\n",
        "# Separamos train de test\n",
        "idx_train, idx_test, y_train, y_test = train_test_split(idx_data, labels_bin, test_size=0.2, random_state=0)\n",
        "\n",
        "# Separamos train de val\n",
        "idx_train, idx_val, y_train, y_val = train_test_split(idx_train, y_train, test_size=0.2, random_state=0)\n",
        "\n",
        "acc_baseline_train = np.sum(y_train==0)/y_train.shape[0]"
      ]
    },
    {
      "cell_type": "markdown",
      "id": "64a4b376",
      "metadata": {
        "id": "64a4b376"
      },
      "source": [
        "### Text pre-processing"
      ]
    },
    {
      "cell_type": "markdown",
      "id": "cbee5655",
      "metadata": {
        "id": "cbee5655"
      },
      "source": [
        "With the following code, we pre-process using Spacy each sentence by removing words that are punctuation marks. We also remove [stopping words](https://nlp.stanford.edu/IR-book/html/htmledition/dropping-common-terms-stop-words-1.html) (words that are not very informative). As a result, we have the list `norm_docs`."
      ]
    },
    {
      "cell_type": "code",
      "execution_count": 11,
      "id": "a84793ea",
      "metadata": {
        "id": "a84793ea"
      },
      "outputs": [],
      "source": [
        "nlp = spacy.load(\"en_core_web_md\") # Language model\n",
        "\n",
        "\n",
        "docs = [nlp(c) for c in phrases]\n",
        "\n",
        "# We remove punctuation marks (.,;:?!...) and stopping words\n",
        "def normalize(doc):\n",
        "\n",
        "    return [w for w in doc if w.has_vector and not w.is_punct and not w.is_stop]\n",
        "\n",
        "norm_docs = [normalize(d) for d in docs]\n",
        "\n"
      ]
    },
    {
      "cell_type": "markdown",
      "id": "c50e7c75",
      "metadata": {
        "id": "c50e7c75"
      },
      "source": [
        "Every item of `norm_docs` corresponds to each of the sentences in the dataset. Each item is itself a list of spacy tokens (basically words with different attributes). The most important attribute for us the the *word embedding vector*. For instance, lets print the first sentence"
      ]
    },
    {
      "cell_type": "code",
      "execution_count": 12,
      "id": "1fff2e5c",
      "metadata": {
        "colab": {
          "base_uri": "https://localhost:8080/"
        },
        "id": "1fff2e5c",
        "outputId": "dc11049a-818d-41a4-fd8c-e093740c6d3e"
      },
      "outputs": [
        {
          "name": "stdout",
          "output_type": "stream",
          "text": [
            "The first original sentence is: According to Gran , the company has no plans to move all production to Russia , although that is where the company is growing .\n",
            "\n",
            "The first normalized sentence is: [According, Gran, company, plans, production, Russia, company, growing]. The length of the document is 8 tokens\n"
          ]
        }
      ],
      "source": [
        "print(f'The first original sentence is: {phrases[0]}\\n')\n",
        "\n",
        "print(f'The first normalized sentence is: {norm_docs[0]}. The length of the document is {len(norm_docs[0])} tokens')"
      ]
    },
    {
      "cell_type": "markdown",
      "id": "d985b023",
      "metadata": {
        "id": "d985b023"
      },
      "source": [
        "We can access to the word embedding of each token using the attribute `.vector`:"
      ]
    },
    {
      "cell_type": "code",
      "execution_count": 13,
      "id": "687aecc3",
      "metadata": {
        "colab": {
          "base_uri": "https://localhost:8080/"
        },
        "id": "687aecc3",
        "outputId": "f39f5414-d20c-4937-8aa2-4a8956f0a14b"
      },
      "outputs": [
        {
          "name": "stdout",
          "output_type": "stream",
          "text": [
            "The word embedding associated with the token According is\n",
            "\n",
            "[-7.2518e-01 -6.5831e+00  1.9781e+00  1.5750e+00  3.7848e+00 -7.7536e-01\n",
            "  1.6243e+00  1.3813e+00 -7.4554e-01 -3.3811e+00  5.6047e-01  1.1629e+00\n",
            " -9.7465e-01  6.6956e-01  4.2558e-01  4.1766e+00  4.6478e+00  3.5616e+00\n",
            "  7.3597e-01  3.6554e-01 -2.2610e+00 -4.1928e+00 -6.7455e-01  1.7693e+00\n",
            " -1.5665e-01 -1.1390e+00  1.8747e+00  2.9538e+00  5.5879e-01  3.0424e-01\n",
            "  2.3027e-01  3.6405e-02  8.8395e-01  1.0494e+00 -1.7269e+00 -3.3406e-01\n",
            " -1.0464e+00 -9.8123e-01 -2.1267e+00 -2.9542e+00 -4.3075e+00 -1.5900e+00\n",
            " -8.9226e-01  3.6363e-01 -3.7703e+00 -1.8992e+00 -5.3433e-01  4.0256e+00\n",
            " -1.8628e+00 -1.9761e+00  1.2977e+00  3.6029e+00  1.6310e+00 -2.5195e+00\n",
            "  2.0482e+00 -1.4805e+00 -1.4294e-01 -2.7591e+00 -3.4827e-01 -6.1484e+00\n",
            " -5.9045e-01 -5.3691e-01 -7.3631e-01  3.1585e+00  5.7914e+00 -1.1208e+00\n",
            " -2.5045e+00 -2.2957e+00  2.7173e+00  1.1104e+00  2.0943e+00 -2.6719e+00\n",
            " -2.6322e+00 -3.9377e+00 -1.3198e+00  3.5639e+00 -1.3974e+00  2.7111e+00\n",
            " -6.2090e-01 -2.3193e-01 -3.0279e+00 -2.5807e+00 -5.7340e+00  2.5679e+00\n",
            "  4.5394e+00  1.3059e+00 -1.4290e+00 -8.0410e+00  3.7872e+00 -2.6190e+00\n",
            " -2.4969e+00  2.0261e+00 -3.2318e-01  1.5180e+00  2.2187e+00 -6.2623e-01\n",
            " -2.6769e+00 -2.5853e+00  1.2575e+00  2.9008e-02  2.9603e+00  8.5375e-01\n",
            "  2.0921e+00  5.0746e+00  6.7107e-01  2.8114e+00  1.4761e+00 -3.0179e+00\n",
            "  6.2414e+00 -3.2877e+00  3.6328e+00  4.6257e+00 -3.1342e+00 -6.6164e-01\n",
            "  3.6587e+00  2.8041e+00 -4.1617e+00 -8.4523e-01 -7.7168e+00 -3.4145e-01\n",
            " -2.1865e+00 -1.7390e+00  7.3350e+00 -2.8873e+00 -7.7150e-01 -1.4559e+00\n",
            "  1.0630e+00  3.0779e+00  4.4266e+00 -1.4543e+00 -2.6580e+00  3.5960e-01\n",
            "  5.1154e-01 -2.4728e+00  4.0341e-01  2.3585e-01 -2.9317e-01 -1.7299e+00\n",
            "  6.4465e-01  1.0732e+00 -2.6035e+00  4.4864e-01 -1.7523e+00  7.7338e-01\n",
            "  9.5763e-01 -9.9747e-01  9.1260e-01  2.5927e+00  2.2700e+00  7.4303e-01\n",
            "  3.4108e+00 -3.2150e+00  7.2797e-01  2.4298e+00 -3.6641e+00 -1.6404e+00\n",
            " -1.3251e+00 -1.4031e+00 -9.2013e-01  3.0618e-01  1.4421e+00  1.2889e+00\n",
            "  4.2948e+00  4.1745e-01 -9.6250e-01  1.1570e-01 -1.7441e+00  3.4052e+00\n",
            " -3.0673e+00 -8.1124e-01  1.7430e-01 -1.0956e+00  1.8748e+00 -4.5274e+00\n",
            "  3.8751e+00  1.8821e+00  1.3005e+00  6.3196e-01 -4.8692e+00 -3.6120e+00\n",
            " -1.8972e+00  2.3703e+00  2.1723e+00  1.9241e+00  4.3380e+00 -5.2026e+00\n",
            "  4.0781e-01  2.6293e+00  1.5326e+00  7.1357e-01  1.9856e+00 -3.3091e+00\n",
            " -1.7667e+00 -2.1850e+00  6.2716e-01  3.8435e+00 -5.5904e+00 -1.5953e+00\n",
            "  4.6628e+00  2.6750e+00 -1.0864e-01 -1.5554e-02 -3.4484e-01 -3.0744e-01\n",
            "  7.1115e+00  3.9519e+00 -3.7144e+00  8.7165e-01 -8.2713e-01 -1.2254e+00\n",
            "  3.1691e-01 -2.2795e+00 -1.4480e+00 -1.4007e+00  2.5799e+00 -2.1328e+00\n",
            "  1.6681e+00  7.9704e-01  7.8460e-02 -2.6866e+00 -1.1266e+00 -2.5029e-01\n",
            " -4.3104e+00  9.1187e-01 -5.7045e+00  4.1761e+00  1.3865e-01  1.0966e+00\n",
            " -7.0929e-01 -1.1949e+00  6.1319e+00 -2.9803e+00 -1.1781e-01 -1.8872e-01\n",
            " -6.2545e-01  4.0206e-01  3.3657e-01 -9.0313e-01  1.0398e+00  1.0206e+00\n",
            " -7.8774e-01 -1.9990e-01  4.0301e+00  4.5494e-01 -3.7520e-01  6.3347e+00\n",
            " -1.0689e+00 -3.9164e+00 -4.3000e+00  2.8301e+00  7.6479e-01 -5.9875e+00\n",
            " -1.7156e+00 -6.4597e-01  3.6218e+00 -4.8193e+00  4.0800e+00 -2.8690e+00\n",
            "  3.1495e+00 -2.3462e+00 -2.6407e+00  1.0276e-01 -2.1990e+00 -9.3786e-01\n",
            "  2.6392e-01 -8.6170e-03  2.3608e+00  7.8696e-01 -1.3221e-01 -2.1368e+00\n",
            " -2.5576e+00  1.7999e+00  3.2999e-01  2.5983e+00  1.2352e+00 -9.7384e-01\n",
            "  3.1915e+00 -5.2086e+00  7.7067e-01  6.7537e-01  4.9745e+00  7.5804e-01\n",
            "  1.4203e+00 -2.4101e+00  1.0189e+00 -4.0113e+00  3.8668e+00  3.7377e+00\n",
            " -6.8873e-02 -3.3919e-03  1.0146e+00  3.8635e-01 -3.3157e+00  2.0304e+00\n",
            " -3.4978e+00  1.4078e-01 -2.1018e-01 -3.4944e+00  4.3694e+00 -3.6644e+00]\n"
          ]
        }
      ],
      "source": [
        "print(f'The word embedding associated with the token {norm_docs[0][0].text} is\\n')\n",
        "print(norm_docs[0][0].vector)"
      ]
    },
    {
      "cell_type": "markdown",
      "id": "b30b4698",
      "metadata": {
        "id": "b30b4698"
      },
      "source": [
        "You can check that the word embedding dimension is 300 ..."
      ]
    },
    {
      "cell_type": "code",
      "execution_count": 14,
      "id": "40bd93b3",
      "metadata": {
        "colab": {
          "base_uri": "https://localhost:8080/"
        },
        "id": "40bd93b3",
        "outputId": "c7471131-b3b3-439e-a27c-9f0d1e7c5c71"
      },
      "outputs": [
        {
          "name": "stdout",
          "output_type": "stream",
          "text": [
            "The WE dimension is (300,)\n"
          ]
        }
      ],
      "source": [
        "print(f'The WE dimension is {norm_docs[0][0].vector.shape}')"
      ]
    },
    {
      "cell_type": "markdown",
      "id": "84ff1de2",
      "metadata": {
        "id": "84ff1de2"
      },
      "source": [
        "### Length normalization\n",
        "\n",
        "Note that in this problem we're working with sequences of text of different length. This is in principle not a problem for RNNs. However, there's one additional pre-processing step that we have to do. When we feed the RNN function **all sequences in the mini-batch must have the same length**. Then we will use the corresponding state to make the prediction.\n",
        "\n",
        "For simplicity, we are taking here a non-efficient solution. Instead of normalize lengths at a batch level, we are normalizing the whole dataset so all sequences have the same length. To do so, we're adding **junk tokens** to all sentences so they artificially are of the same length. However, we will keep in a list the real length of each data, since the sentiment analysis prediction will be made using the RNN state corresponding to the **last real token**.\n",
        "\n"
      ]
    },
    {
      "cell_type": "code",
      "execution_count": 15,
      "id": "f0dcda70",
      "metadata": {
        "id": "f0dcda70"
      },
      "outputs": [],
      "source": [
        "# List with the length for each sentence\n",
        "\n",
        "lengths = [len(d) for d in norm_docs]\n",
        "\n",
        "# Maximum length (in train!)\n",
        "max_l = np.max([lengths[d] for d in idx_train])"
      ]
    },
    {
      "cell_type": "code",
      "execution_count": 16,
      "id": "e276331d",
      "metadata": {
        "id": "e276331d"
      },
      "outputs": [],
      "source": [
        "# We add as many junk tokens (#) as needed to equalize the length of each sentence to max_l\n",
        "\n",
        "garbage_token = nlp('#') # Junk token --> #\n",
        "\n",
        "# We normalize the dataset\n",
        "\n",
        "norm_docs_eq_length = [norm_docs[d]+[garbage_token]*(max_l-lengths[d]) for d in range(len(norm_docs))]\n",
        "\n",
        "# Train documents\n",
        "\n",
        "docs_train = [norm_docs_eq_length[d] for d in idx_train]\n",
        "\n",
        "len_train = [lengths[d] for d in idx_train]\n",
        "\n",
        "# Validation documents\n",
        "\n",
        "docs_val = [norm_docs_eq_length[d] for d in idx_val]\n",
        "\n",
        "len_val = [lengths[d] for d in idx_val]\n",
        "\n",
        "# documentos test\n",
        "\n",
        "docs_test = [norm_docs_eq_length[d] for d in idx_test]\n",
        "\n",
        "len_test = [lengths[d] for d in idx_test]"
      ]
    },
    {
      "cell_type": "markdown",
      "id": "0ac7827c",
      "metadata": {
        "id": "0ac7827c"
      },
      "source": [
        "Recall that for each document, the sequence of word embeddings is obtained using the `.vector` attribute per token ..."
      ]
    },
    {
      "cell_type": "markdown",
      "id": "ea418f47",
      "metadata": {
        "id": "ea418f47"
      },
      "source": [
        "### RNN classification\n",
        "\n",
        "Our goal is to implement an LSTM that takes as input the sequence of word embeddings and predicts the binary label. In the list `lengths` we have the length per document (before adding the junk tokens). The LSTM prediction **must be done using the LSTM state after processing the last real token**. That means we ignore the LSTM states after we start processing the junk tokens.\n",
        "\n",
        "\n",
        "A few comments:\n",
        "\n",
        "- The LSTM is trained using mini-batches. So the input is a tensor of dimension (batch_size, seq_length, max_l). You have to generate this tensor using the lists implemented before (`docs_train`, `docs_val`, `docs_test`).\n",
        "- You don't care about the LSTM initializaiton. Use the default one.\n",
        "- The LSTM provides the list of states upon processing the sequences of max_l word embeddings. For each sentence, you have to predict the label using the appropiate state (the one after processing the last real word). My advise is that you store in a list the decision states for each data in the minibatch and then concatenate them in a tensor using `torch.stack`.\n",
        "- We will use a single MLP layer to perform the prediction. Between the LSTM and the MLP, we include a dropout layer.\n",
        "- The network will take some time to train, so my advise is to save the network parameters after each epoch (in a separate file), so early stopping can be implemented without re-training.\n",
        "- Validate the dimension of the LSTM state.\n",
        "\n",
        "<img src='http://www.tsc.uc3m.es/~olmos/BBVA/RNN.png' width=800 />\n",
        "\n",
        "\n"
      ]
    },
    {
      "cell_type": "code",
      "execution_count": 17,
      "id": "29faf6f4",
      "metadata": {
        "id": "29faf6f4"
      },
      "outputs": [],
      "source": [
        "from torch import nn\n",
        "from torch import optim\n",
        "import torch"
      ]
    },
    {
      "cell_type": "markdown",
      "id": "edc64b04",
      "metadata": {
        "id": "edc64b04"
      },
      "source": [
        ">**Exercise:** Complete the following code to construct the RNN classifier"
      ]
    },
    {
      "cell_type": "code",
      "execution_count": 18,
      "id": "6c75f0f1",
      "metadata": {
        "id": "6c75f0f1"
      },
      "outputs": [],
      "source": [
        "class RNN(nn.Module):\n",
        "    def __init__(self, input_size, output_size, hidden_dim, n_layers,prob=0.5):\n",
        "\n",
        "\n",
        "        super().__init__()\n",
        "\n",
        "        self.hidden_dim = hidden_dim\n",
        "\n",
        "        self.input_size = input_size\n",
        "\n",
        "        # LSTM layer\n",
        "        self.rnn = nn.LSTM(input_size, hidden_dim, n_layers, dropout=prob, batch_first=True)\n",
        "\n",
        "        # last, fully-connected layer\n",
        "        self.fc1 = nn.Linear(hidden_dim, output_size)\n",
        "\n",
        "        self.logsoftmax = nn.LogSoftmax(dim=1)\n",
        "\n",
        "        # Drop layer\n",
        "        self.dropout = nn.Dropout(p=prob)\n",
        "\n",
        "    def forward(self, x, lengths, h0=None):\n",
        "\n",
        "        '''\n",
        "\n",
        "        - x: Sequences of word embeddings. Dimensions (batch_size, max_l, word_embedding_size)\n",
        "        - lengths: The real length of each sequence, excluding the junk # tokens! You use this to know what\n",
        "          RNN state you should use to classify\n",
        "\n",
        "        '''\n",
        "\n",
        "        batch_size = x.size(0)\n",
        "        seq_length = x.size(1)\n",
        "\n",
        "        # Compute the RNN output (sequence of states for the whole input)\n",
        "        r_out, _ =  self.rnn(x, h0)\n",
        "\n",
        "        # Now it comes the tricky part. You have to stack in a (batch_size, hidden_dim) tensor, the right state\n",
        "        # for each sequece. Namely, the state after processing the last real token (not the junk # ones)\n",
        "        # The function torch.stack() can be handy\n",
        "\n",
        "        # This function selects the last context state of the sequence depending on its size\n",
        "        aux = torch.stack([r_out[[d],lengths[d]-1,:] for d in range(batch_size)]).reshape([-1,self.hidden_dim])\n",
        "        # We classify using such tensor (don't forget the dropout!)\n",
        "\n",
        "        output = self.logsoftmax(self.fc1(self.dropout(aux)))\n",
        "\n",
        "\n",
        "        return output"
      ]
    },
    {
      "cell_type": "markdown",
      "id": "fc9e16f1",
      "metadata": {
        "id": "fc9e16f1"
      },
      "source": [
        "Let's first illustrate how we can get the output of the (untrained) RNN network given our texts. For example, let's get the RNN output for the first three training texts. The first step is to get the **sequences of word embeddings** of each of them..."
      ]
    },
    {
      "cell_type": "code",
      "execution_count": 19,
      "id": "43c2d15b",
      "metadata": {
        "colab": {
          "base_uri": "https://localhost:8080/"
        },
        "id": "43c2d15b",
        "outputId": "b93b553a-acc0-4484-c10e-ccd452f371da"
      },
      "outputs": [
        {
          "name": "stderr",
          "output_type": "stream",
          "text": [
            "<ipython-input-19-31b6a0fc2f9f>:4: UserWarning: Creating a tensor from a list of numpy.ndarrays is extremely slow. Please consider converting the list to a single numpy.ndarray with numpy.array() before converting to a tensor. (Triggered internally at ../torch/csrc/utils/tensor_new.cpp:275.)\n",
            "  x_input = torch.Tensor([[w.vector for w in docs_train[d]] for d in idx])\n"
          ]
        }
      ],
      "source": [
        "idx = [1,2,3]\n",
        "\n",
        "#[w.vector for w in docs_train[d]] generates the list of word vectors for the d-th document\n",
        "x_input = torch.Tensor([[w.vector for w in docs_train[d]] for d in idx])"
      ]
    },
    {
      "cell_type": "code",
      "execution_count": 20,
      "id": "ef7b1db8",
      "metadata": {
        "colab": {
          "base_uri": "https://localhost:8080/"
        },
        "id": "ef7b1db8",
        "outputId": "f2677643-b1ea-4567-b5fc-a49a120cff1d"
      },
      "outputs": [
        {
          "data": {
            "text/plain": [
              "(14, 300)"
            ]
          },
          "execution_count": 20,
          "metadata": {},
          "output_type": "execute_result"
        }
      ],
      "source": [
        "d=1\n",
        "\n",
        "np.array([docs_train[d][w].vector for w in range(len_train[d])]).shape"
      ]
    },
    {
      "cell_type": "code",
      "execution_count": 21,
      "id": "chEOttg5mkOg",
      "metadata": {
        "colab": {
          "base_uri": "https://localhost:8080/"
        },
        "id": "chEOttg5mkOg",
        "outputId": "fa13b684-c644-46df-8460-c8fe9f55716b"
      },
      "outputs": [
        {
          "data": {
            "text/plain": [
              "[company,\n",
              " reported,\n",
              " net,\n",
              " sales,\n",
              " 302,\n",
              " mln,\n",
              " euro,\n",
              " $,\n",
              " mln,\n",
              " operating,\n",
              " margin,\n",
              " 16,\n",
              " pct,\n",
              " 2006,\n",
              " #,\n",
              " #,\n",
              " #,\n",
              " #,\n",
              " #,\n",
              " #,\n",
              " #,\n",
              " #,\n",
              " #,\n",
              " #,\n",
              " #,\n",
              " #,\n",
              " #,\n",
              " #,\n",
              " #,\n",
              " #,\n",
              " #,\n",
              " #,\n",
              " #,\n",
              " #,\n",
              " #]"
            ]
          },
          "execution_count": 21,
          "metadata": {},
          "output_type": "execute_result"
        }
      ],
      "source": [
        "docs_train[1]"
      ]
    },
    {
      "cell_type": "code",
      "execution_count": 22,
      "id": "e59b75af",
      "metadata": {
        "id": "e59b75af"
      },
      "outputs": [],
      "source": [
        "aux = torch.Tensor([np.mean([docs_train[d][w].vector for w in range(len_train[d])],0) for d in idx])"
      ]
    },
    {
      "cell_type": "markdown",
      "id": "455ffc43",
      "metadata": {
        "id": "455ffc43"
      },
      "source": [
        "The shape of `x_input` should be (3,max_l,300)"
      ]
    },
    {
      "cell_type": "code",
      "execution_count": 23,
      "id": "e1bba6c1",
      "metadata": {
        "colab": {
          "base_uri": "https://localhost:8080/"
        },
        "id": "e1bba6c1",
        "outputId": "67110009-558e-4bd6-945d-42a0568908bd"
      },
      "outputs": [
        {
          "data": {
            "text/plain": [
              "torch.Size([3, 35, 300])"
            ]
          },
          "execution_count": 23,
          "metadata": {},
          "output_type": "execute_result"
        }
      ],
      "source": [
        "x_input.shape"
      ]
    },
    {
      "cell_type": "markdown",
      "id": "ac2b4f00",
      "metadata": {
        "id": "ac2b4f00"
      },
      "source": [
        "Let's instantiate the RNN class"
      ]
    },
    {
      "cell_type": "code",
      "execution_count": 24,
      "id": "82bcdf04",
      "metadata": {
        "colab": {
          "base_uri": "https://localhost:8080/"
        },
        "id": "82bcdf04",
        "outputId": "1be2554c-1f4e-442c-d24a-4a2422702519"
      },
      "outputs": [
        {
          "name": "stderr",
          "output_type": "stream",
          "text": [
            "/usr/local/lib/python3.10/dist-packages/torch/nn/modules/rnn.py:83: UserWarning: dropout option adds dropout after all but last recurrent layer, so non-zero dropout expects num_layers greater than 1, but got dropout=0.5 and num_layers=1\n",
            "  warnings.warn(\"dropout option adds dropout after all but last \"\n"
          ]
        }
      ],
      "source": [
        "my_RNN = RNN(300,2,20,1)"
      ]
    },
    {
      "cell_type": "markdown",
      "id": "2050a813",
      "metadata": {
        "id": "2050a813"
      },
      "source": [
        "> **Exercise:** evaluate the RNN otuput for `x_input` and check that the ouput dimensions make sense"
      ]
    },
    {
      "cell_type": "code",
      "execution_count": 25,
      "id": "1dfa7411",
      "metadata": {
        "id": "1dfa7411"
      },
      "outputs": [],
      "source": [
        "o = my_RNN.forward(x_input,[lengths[d] for d in idx])"
      ]
    },
    {
      "cell_type": "code",
      "execution_count": 26,
      "id": "15e9071e",
      "metadata": {
        "colab": {
          "base_uri": "https://localhost:8080/"
        },
        "id": "15e9071e",
        "outputId": "5b9ed03e-9fd2-4ab4-9922-b398e32a8c94"
      },
      "outputs": [
        {
          "name": "stdout",
          "output_type": "stream",
          "text": [
            "tensor([[-1.0276, -0.4430],\n",
            "        [-0.7514, -0.6381],\n",
            "        [-0.4769, -0.9694]], grad_fn=<LogSoftmaxBackward0>)\n"
          ]
        }
      ],
      "source": [
        "print(o)"
      ]
    },
    {
      "cell_type": "code",
      "execution_count": 27,
      "id": "99eb19c0",
      "metadata": {
        "colab": {
          "base_uri": "https://localhost:8080/"
        },
        "id": "99eb19c0",
        "outputId": "f7a53602-d5e7-4760-e158-c40aa0d7c133"
      },
      "outputs": [
        {
          "data": {
            "text/plain": [
              "torch.Size([3, 2])"
            ]
          },
          "execution_count": 27,
          "metadata": {},
          "output_type": "execute_result"
        }
      ],
      "source": [
        "o.shape"
      ]
    },
    {
      "cell_type": "markdown",
      "id": "8fab796e",
      "metadata": {
        "id": "8fab796e"
      },
      "source": [
        "> **Exercise:** Complete the following class, which inherits the previous one and it adds a training loop, an evaluation method, and functionalities to save the model every few epochs"
      ]
    },
    {
      "cell_type": "code",
      "execution_count": 28,
      "id": "c5786518",
      "metadata": {
        "id": "c5786518"
      },
      "outputs": [],
      "source": [
        "class RNN_with_train(RNN):\n",
        "\n",
        "    def __init__(self,input_size, output_size, hidden_dim, n_layers,prob=0.0,batch_size=50,lr=0.0005,saved_files='./saved_models/RNN_sentiment_analysis'):\n",
        "\n",
        "        super().__init__(input_size, output_size, hidden_dim, n_layers,prob)\n",
        "\n",
        "        self.lr = lr # Learning Rate\n",
        "\n",
        "        self.optim = optim.Adam(self.parameters(), self.lr) # Optimizer\n",
        "\n",
        "        self.criterion = nn.NLLLoss()\n",
        "\n",
        "        self.loss_during_training = []\n",
        "\n",
        "        self.valid_loss_during_training = []\n",
        "\n",
        "        self.batch_size = batch_size\n",
        "\n",
        "        self.saved_files = saved_files\n",
        "\n",
        "\n",
        "    def predict_proba(self,docs,lengths,Y=None):\n",
        "\n",
        "        '''\n",
        "        We use this method to get the output of the network given a set of documents. If label is provided,\n",
        "        we get accuracy.\n",
        "\n",
        "        - docs: documents, each encoded as a list of spacy tokens. They are length-normalized.\n",
        "        - lengths: real length of each document.\n",
        "        - Y: labels\n",
        "        '''\n",
        "        accuracy = 0.0\n",
        "\n",
        "        with torch.no_grad():\n",
        "\n",
        "            x_input = torch.Tensor([[w.vector for w in d] for d in docs])\n",
        "\n",
        "            logprobs = self.forward(x_input,[len(d) for d in docs]).detach().numpy()\n",
        "\n",
        "            if(len(Y)>0):\n",
        "                accuracy = np.sum(np.argmax(logprobs,1)==Y)/np.shape(Y)[0]\n",
        "\n",
        "        return logprobs,accuracy\n",
        "\n",
        "\n",
        "    def fit(self,docs_train,docs_val,Y,Yval,len_train,len_val,epochs=100,print_every=5):\n",
        "\n",
        "        '''\n",
        "        Método de entrenamiento.\n",
        "\n",
        "        - docs_train, docs_val: training/validation documents  (each is a list of spacy tokens).\n",
        "          Normalized in length!\n",
        "        - len_train/len_val: real lengths\n",
        "        '''\n",
        "\n",
        "        self.print_every = print_every\n",
        "\n",
        "        self.epochs=epochs\n",
        "\n",
        "        # Optimization Loop\n",
        "\n",
        "        self.num_train = len(docs_train) # Number of training points\n",
        "\n",
        "        self.num_batchs = np.floor(self.num_train/self.batch_size) # Number of training batches\n",
        "\n",
        "        self.num_val = len(docs_val) # Number of validation points\n",
        "\n",
        "        self.num_batchs_val = np.floor(self.num_val/self.batch_size) # Numero of validation batches\n",
        "\n",
        "        labels = torch.Tensor(Y).type(torch.LongTensor) # Training labels\n",
        "\n",
        "        labelsval = torch.Tensor(Yval).type(torch.LongTensor) # Validation labels\n",
        "\n",
        "\n",
        "        for e in range(int(self.epochs)):\n",
        "\n",
        "            self.train() # Activate dropout\n",
        "\n",
        "            # Random data permutation\n",
        "\n",
        "            idx = np.random.permutation(self.num_train)\n",
        "\n",
        "            running_loss = 0.\n",
        "\n",
        "            for i in range(int(self.num_batchs)):\n",
        "\n",
        "                self.optim.zero_grad()\n",
        "\n",
        "                # Indices of the data entering the batch\n",
        "\n",
        "                idx_batch = idx[i*self.batch_size:(i+1)*self.batch_size]\n",
        "\n",
        "                # Just in case there are empty documents, we ignore them\n",
        "                idx_batch = [d for d in idx_batch if len_train[d]>0]\n",
        "\n",
        "                # We code each document using the sequences of word embeddings\n",
        "\n",
        "                x_input = torch.Tensor([[w.vector for w in docs_train[d]] for d in idx_batch])\n",
        "\n",
        "                # We compute the classifier output for every data\n",
        "\n",
        "                out = self.forward(x_input,[len_train[d] for d in idx_batch])\n",
        "\n",
        "                # Cost function and gradient descent step\n",
        "\n",
        "                loss = self.criterion(out,labels[idx_batch])\n",
        "\n",
        "                running_loss += loss.item()\n",
        "\n",
        "                loss.backward()\n",
        "\n",
        "                # Gradient clipping\n",
        "                nn.utils.clip_grad_norm_(self.parameters(), 2.0)\n",
        "\n",
        "                # SGD steps\n",
        "\n",
        "                self.optim.step()\n",
        "\n",
        "            self.loss_during_training.append(running_loss/self.num_batchs)\n",
        "\n",
        "            # We save model parameters\n",
        "\n",
        "            torch.save(self.state_dict(), self.saved_files+'_epoch_'+str(e)+'.pth')\n",
        "\n",
        "            # We repeat for validation\n",
        "\n",
        "            with torch.no_grad():\n",
        "\n",
        "                # set model to evaluation mode\n",
        "                self.eval()\n",
        "\n",
        "                running_loss = 0.\n",
        "\n",
        "                idx = np.random.permutation(self.num_val)\n",
        "\n",
        "                running_loss = 0.\n",
        "\n",
        "                for i in range(int(self.num_batchs_val)):\n",
        "\n",
        "                    idx_batch = idx[i*self.batch_size:(i+1)*self.batch_size]\n",
        "\n",
        "                    # Just in case there are empty documents, we ignore them\n",
        "                    idx_batch = [d for d in idx_batch if len_val[d]>0]\n",
        "\n",
        "                    x_input = torch.Tensor([[w.vector for w in docs_val[d]] for d in idx_batch])\n",
        "\n",
        "                    out = self.forward(x_input,[len_val[d] for d in idx_batch])\n",
        "\n",
        "                    loss = self.criterion(out,labelsval[idx_batch])\n",
        "\n",
        "                    running_loss += loss.item()\n",
        "\n",
        "                self.valid_loss_during_training.append(running_loss/self.num_batchs_val)\n",
        "\n",
        "\n",
        "\n",
        "            if(e % self.print_every == 0):\n",
        "\n",
        "                print(f\"Training loss after {e} epochs: {self.loss_during_training[-1]}. Validation loss: {self.valid_loss_during_training[-1]}\")"
      ]
    },
    {
      "cell_type": "markdown",
      "id": "f8ee5f2f",
      "metadata": {
        "id": "f8ee5f2f"
      },
      "source": [
        "> **Exercise:** Instantiate and train the class using a hidden state of 20 dimensions and dropout probability equal to 0.3. Train for 40 epochs (can take a while)"
      ]
    },
    {
      "cell_type": "code",
      "execution_count": 29,
      "id": "4609e609",
      "metadata": {
        "colab": {
          "base_uri": "https://localhost:8080/"
        },
        "id": "4609e609",
        "outputId": "77ddb693-e630-4ca4-d41a-cb76c505c1a6"
      },
      "outputs": [
        {
          "name": "stderr",
          "output_type": "stream",
          "text": [
            "/usr/local/lib/python3.10/dist-packages/torch/nn/modules/rnn.py:83: UserWarning: dropout option adds dropout after all but last recurrent layer, so non-zero dropout expects num_layers greater than 1, but got dropout=0.3 and num_layers=1\n",
            "  warnings.warn(\"dropout option adds dropout after all but last \"\n"
          ]
        },
        {
          "name": "stdout",
          "output_type": "stream",
          "text": [
            "Training loss after 0 epochs: 0.536997479526964. Validation loss: 0.4044012592898475\n",
            "Training loss after 1 epochs: 0.3849048555305559. Validation loss: 0.3382168776459164\n",
            "Training loss after 2 epochs: 0.33781973119467906. Validation loss: 0.30593391756216687\n",
            "Training loss after 3 epochs: 0.3186582649407321. Validation loss: 0.2931057463089625\n",
            "Training loss after 4 epochs: 0.28913849796334357. Validation loss: 0.2833673068218761\n",
            "Training loss after 5 epochs: 0.2753844585728972. Validation loss: 0.2750039142039087\n",
            "Training loss after 6 epochs: 0.2660884516288156. Validation loss: 0.2613625294632382\n",
            "Training loss after 7 epochs: 0.24571483204626057. Validation loss: 0.2592462334367964\n",
            "Training loss after 8 epochs: 0.23297162588736783. Validation loss: 0.244612578716543\n",
            "Training loss after 9 epochs: 0.2180154342969803. Validation loss: 0.2411410767171118\n",
            "Training loss after 10 epochs: 0.21105839914246782. Validation loss: 0.23040840526421866\n",
            "Training loss after 11 epochs: 0.1967916341677104. Validation loss: 0.2246906351712015\n",
            "Training loss after 12 epochs: 0.18561363944860354. Validation loss: 0.2202418384452661\n",
            "Training loss after 13 epochs: 0.1764949625485564. Validation loss: 0.22031588604052862\n",
            "Training loss after 14 epochs: 0.16703445954273824. Validation loss: 0.20996092963549826\n",
            "Training loss after 15 epochs: 0.1614427915582918. Validation loss: 0.2045450032585197\n",
            "Training loss after 16 epochs: 0.15104627935853723. Validation loss: 0.20607465008894602\n",
            "Training loss after 17 epochs: 0.13992073841086805. Validation loss: 0.1981423952513271\n",
            "Training loss after 18 epochs: 0.13658628653581828. Validation loss: 0.1931962745471133\n",
            "Training loss after 19 epochs: 0.13479830635941192. Validation loss: 0.1937335597144233\n",
            "Training loss after 20 epochs: 0.12539741728607923. Validation loss: 0.18991390098300245\n",
            "Training loss after 21 epochs: 0.12338295941279359. Validation loss: 0.1907717991206381\n",
            "Training loss after 22 epochs: 0.11688555317790542. Validation loss: 0.18054414664705595\n",
            "Training loss after 23 epochs: 0.11364358168554632. Validation loss: 0.18379537036849392\n",
            "Training loss after 24 epochs: 0.10005838138191667. Validation loss: 0.17480847694807583\n",
            "Training loss after 25 epochs: 0.10320101224192202. Validation loss: 0.1791879136322273\n",
            "Training loss after 26 epochs: 0.09923827683884803. Validation loss: 0.17599867180817658\n",
            "Training loss after 27 epochs: 0.08647218078681052. Validation loss: 0.17585702882044846\n",
            "Training loss after 28 epochs: 0.08984181409931347. Validation loss: 0.1769960986243354\n",
            "Training loss after 29 epochs: 0.08873167478364624. Validation loss: 0.17787916854851776\n",
            "Training loss after 30 epochs: 0.08406771515330223. Validation loss: 0.17661392357614306\n",
            "Training loss after 31 epochs: 0.0831405858394422. Validation loss: 0.1744508660501904\n",
            "Training loss after 32 epochs: 0.07743121880068354. Validation loss: 0.18283746401882833\n",
            "Training loss after 33 epochs: 0.0762415031251842. Validation loss: 0.177683107347952\n",
            "Training loss after 34 epochs: 0.08051446655586567. Validation loss: 0.18111063084668583\n",
            "Training loss after 35 epochs: 0.07199009740087267. Validation loss: 0.1817674268451002\n",
            "Training loss after 36 epochs: 0.0774848193874302. Validation loss: 0.1974106685568889\n",
            "Training loss after 37 epochs: 0.07696862000818938. Validation loss: 0.1810167289028565\n",
            "Training loss after 38 epochs: 0.06715493163170472. Validation loss: 0.1934223651058144\n",
            "Training loss after 39 epochs: 0.06622150953705996. Validation loss: 0.17350362406836617\n"
          ]
        }
      ],
      "source": [
        "my_RNN = RNN_with_train(input_size=300,output_size=2,hidden_dim=20,n_layers=1, prob=0.3)\n",
        "\n",
        "#Call train\n",
        "\n",
        "my_RNN.fit(docs_train,docs_val,torch.Tensor(y_train),torch.Tensor(y_val),len_train,len_val,epochs=40,print_every=1)\n"
      ]
    },
    {
      "cell_type": "markdown",
      "id": "dd1eed96",
      "metadata": {
        "id": "dd1eed96"
      },
      "source": [
        "> **Exercise:** Plot both validation and training loss. Recover the model parameters for the epoch that minimized the validation loss. To do so, note that at every epoch the model parameters are save in a certain file named  `RNN_sentiment_analysis_epoch_X.pth` (unless you changed the default value), where `X` is the epoch. The function to re-state the parameters of the network are  `state_dict = my_RNN.load_state_dict(torch.load('RNN_sentiment_analysis_epoch_X.pth'))\n",
        "`"
      ]
    },
    {
      "cell_type": "code",
      "execution_count": 30,
      "id": "68c6bbbe",
      "metadata": {
        "colab": {
          "base_uri": "https://localhost:8080/",
          "height": 489
        },
        "id": "68c6bbbe",
        "outputId": "0e0d4a6b-310c-462d-aaf8-f7c5d97fc76b"
      },
      "outputs": [
        {
          "data": {
            "text/plain": [
              "Text(0.5, 1.0, 'Training for LSTM without Attention')"
            ]
          },
          "execution_count": 30,
          "metadata": {},
          "output_type": "execute_result"
        },
        {
          "data": {
            "image/png": "[encoded data removed]",
            "text/plain": [
              "<Figure size 640x480 with 1 Axes>"
            ]
          },
          "metadata": {
            "image/png": {
              "height": 454,
              "width": 567
            }
          },
          "output_type": "display_data"
        }
      ],
      "source": [
        "# Plotting the train/val loss\n",
        "plt.figure()\n",
        "plt.plot(my_RNN.loss_during_training, label='Training')\n",
        "plt.plot(my_RNN.valid_loss_during_training, label='Validation')\n",
        "plt.legend()\n",
        "plt.xlabel('Epochs')\n",
        "plt.ylabel('Loss')\n",
        "plt.title('Training for LSTM without Attention')"
      ]
    },
    {
      "cell_type": "code",
      "execution_count": 31,
      "id": "19a62f91",
      "metadata": {
        "colab": {
          "base_uri": "https://localhost:8080/"
        },
        "id": "19a62f91",
        "outputId": "e5f5645c-3d61-42a6-c11f-a93da5b2bbca"
      },
      "outputs": [
        {
          "data": {
            "text/plain": [
              "<All keys matched successfully>"
            ]
          },
          "execution_count": 31,
          "metadata": {},
          "output_type": "execute_result"
        }
      ],
      "source": [
        "# Recovering the best validation parameters\n",
        "\n",
        "idx_min = np.argsort(my_RNN.valid_loss_during_training)\n",
        "my_RNN.load_state_dict(torch.load(my_RNN.saved_files+'_epoch_'+str(idx_min[0])+'.pth'))"
      ]
    },
    {
      "cell_type": "markdown",
      "id": "6f10d557",
      "metadata": {
        "id": "6f10d557"
      },
      "source": [
        "> **Exercise:** Using the method `predict_proba`, compute the accuracy and class probabilities for the data in the test set. Note that the method returns log-probabilities that you have to exponentiate."
      ]
    },
    {
      "cell_type": "code",
      "execution_count": 33,
      "id": "b1dae5ff",
      "metadata": {
        "colab": {
          "base_uri": "https://localhost:8080/"
        },
        "id": "b1dae5ff",
        "outputId": "f389c489-1899-4de2-e9bb-e1c3d0d38d3c"
      },
      "outputs": [
        {
          "name": "stdout",
          "output_type": "stream",
          "text": [
            "The test accuracy is 0.8872377622377622\n"
          ]
        }
      ],
      "source": [
        "logprobs,acc = my_RNN.predict_proba(docs_test, len_test, y_test)\n",
        "\n",
        "probs = np.exp(logprobs)\n",
        "\n",
        "print(f\"The test accuracy is {acc}\")"
      ]
    },
    {
      "cell_type": "markdown",
      "id": "2f64223e",
      "metadata": {
        "id": "2f64223e"
      },
      "source": [
        "The following code plots the ROC curve of the classifiers, and it computes the area under the curve:"
      ]
    },
    {
      "cell_type": "code",
      "execution_count": 34,
      "id": "0a495c85",
      "metadata": {
        "colab": {
          "base_uri": "https://localhost:8080/",
          "height": 489
        },
        "id": "0a495c85",
        "outputId": "2d523d3a-2550-4129-ea9d-7106e9f20828"
      },
      "outputs": [
        {
          "data": {
            "image/png": "[encoded data removed]",
            "text/plain": [
              "<Figure size 640x480 with 1 Axes>"
            ]
          },
          "metadata": {
            "image/png": {
              "height": 454,
              "width": 567
            }
          },
          "output_type": "display_data"
        },
        {
          "name": "stdout",
          "output_type": "stream",
          "text": [
            "AUC ROC for LSTM is 0.8570076835515082\n"
          ]
        }
      ],
      "source": [
        "from sklearn import metrics\n",
        "\n",
        "fpr, recall, thresholds = metrics.roc_curve(y_test, probs[:,1], pos_label=1)\n",
        "\n",
        "fig,ax = plt.subplots()\n",
        "plt.plot(fpr,recall,lw=2.5,label='ROC curve LSTM')\n",
        "plt.plot([0, 1], [0, 1], linestyle='--', color='gray', linewidth=1.5, label='Base')\n",
        "plt.legend(loc=7)\n",
        "plt.grid(which='major', color='gray', alpha=0.6, linestyle='dotted', lw=1)\n",
        "plt.xlabel('False Positive Rate')\n",
        "plt.ylabel('Recall (R)')\n",
        "plt.title('ROC Curve LSTM without Attention')\n",
        "plt.show()\n",
        "\n",
        "area_roc_LSTM = metrics.roc_auc_score(y_test, probs[:,1])\n",
        "\n",
        "print(f\"AUC ROC for LSTM is {area_roc_LSTM}\")"
      ]
    }
  ],
  "metadata": {
    "accelerator": "TPU",
    "colab": {
      "gpuType": "V28",
      "provenance": []
    },
    "kernelspec": {
      "display_name": "Python 3",
      "name": "python3"
    },
    "language_info": {
      "codemirror_mode": {
        "name": "ipython",
        "version": 3
      },
      "file_extension": ".py",
      "mimetype": "text/x-python",
      "name": "python",
      "nbconvert_exporter": "python",
      "pygments_lexer": "ipython3",
      "version": "3.9.7"
    }
  },
  "nbformat": 4,
  "nbformat_minor": 5
}
